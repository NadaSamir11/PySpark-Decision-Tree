{
 "cells": [
  {
   "cell_type": "code",
   "execution_count": 1,
   "id": "207c2335",
   "metadata": {},
   "outputs": [],
   "source": [
    "from pyspark.sql import SparkSession\n",
    "import pyspark.sql.functions as F"
   ]
  },
  {
   "cell_type": "code",
   "execution_count": 2,
   "id": "fe4b3d28",
   "metadata": {},
   "outputs": [],
   "source": [
    "spark = SparkSession.builder.getOrCreate()"
   ]
  },
  {
   "cell_type": "code",
   "execution_count": 31,
   "id": "19eba9d5",
   "metadata": {},
   "outputs": [
    {
     "name": "stdout",
     "output_type": "stream",
     "text": [
      "+--------+--------+--------+--------+-----+\n",
      "|Variance|Skewness|Curtosis| Entropy|Class|\n",
      "+--------+--------+--------+--------+-----+\n",
      "|  3.6216|  8.6661| -2.8073|-0.44699|    0|\n",
      "|  4.5459|  8.1674| -2.4586| -1.4621|    0|\n",
      "|   3.866| -2.6383|  1.9242| 0.10645|    0|\n",
      "|  3.4566|  9.5228| -4.0112| -3.5944|    0|\n",
      "| 0.32924| -4.4552|  4.5718| -0.9888|    0|\n",
      "|  4.3684|  9.6718| -3.9606| -3.1625|    0|\n",
      "|  3.5912|  3.0129| 0.72888| 0.56421|    0|\n",
      "|  2.0922|   -6.81|  8.4636|-0.60216|    0|\n",
      "|  3.2032|  5.7588|-0.75345|-0.61251|    0|\n",
      "|  1.5356|  9.1772| -2.2718|-0.73535|    0|\n",
      "|  1.2247|  8.7779| -2.2135|-0.80647|    0|\n",
      "|  3.9899| -2.7066|  2.3946| 0.86291|    0|\n",
      "|  1.8993|  7.6625| 0.15394| -3.1108|    0|\n",
      "| -1.5768|  10.843|  2.5462| -2.9362|    0|\n",
      "|   3.404|  8.7261| -2.9915|-0.57242|    0|\n",
      "|  4.6765| -3.3895|  3.4896|  1.4771|    0|\n",
      "|  2.6719|  3.0646| 0.37158| 0.58619|    0|\n",
      "| 0.80355|  2.8473|  4.3439|  0.6017|    0|\n",
      "|  1.4479| -4.8794|  8.3428| -2.1086|    0|\n",
      "|  5.2423| 11.0272|  -4.353| -4.1013|    0|\n",
      "+--------+--------+--------+--------+-----+\n",
      "only showing top 20 rows\n",
      "\n"
     ]
    }
   ],
   "source": [
    "df = spark.read.csv(\"C:\\\\Users\\\\future\\\\Downloads\\\\bill_authentication.csv\" , inferSchema = True , header =True)\n",
    "df.show()"
   ]
  },
  {
   "cell_type": "code",
   "execution_count": 5,
   "id": "82b44c37",
   "metadata": {},
   "outputs": [
    {
     "data": {
      "text/plain": [
       "1372"
      ]
     },
     "execution_count": 5,
     "metadata": {},
     "output_type": "execute_result"
    }
   ],
   "source": [
    "df.count()"
   ]
  },
  {
   "cell_type": "code",
   "execution_count": 6,
   "id": "c9313918",
   "metadata": {},
   "outputs": [
    {
     "data": {
      "text/plain": [
       "5"
      ]
     },
     "execution_count": 6,
     "metadata": {},
     "output_type": "execute_result"
    }
   ],
   "source": [
    "len(df.columns)"
   ]
  },
  {
   "cell_type": "code",
   "execution_count": 7,
   "id": "def50ddb",
   "metadata": {},
   "outputs": [
    {
     "name": "stdout",
     "output_type": "stream",
     "text": [
      "root\n",
      " |-- Variance: double (nullable = true)\n",
      " |-- Skewness: double (nullable = true)\n",
      " |-- Curtosis: double (nullable = true)\n",
      " |-- Entropy: double (nullable = true)\n",
      " |-- Class: integer (nullable = true)\n",
      "\n"
     ]
    }
   ],
   "source": [
    "df.printSchema()"
   ]
  },
  {
   "cell_type": "code",
   "execution_count": 8,
   "id": "c02a650d",
   "metadata": {},
   "outputs": [
    {
     "name": "stdout",
     "output_type": "stream",
     "text": [
      "+-------+------------------+------------------+------------------+------------------+------------------+\n",
      "|summary|          Variance|          Skewness|          Curtosis|           Entropy|             Class|\n",
      "+-------+------------------+------------------+------------------+------------------+------------------+\n",
      "|  count|              1372|              1372|              1372|              1372|              1372|\n",
      "|   mean|0.4337352570699707|1.9223531206393603|1.3976271172667651|-1.191656520043731|0.4446064139941691|\n",
      "| stddev|2.8427625862785577| 5.869046743695513| 4.310030090106595| 2.101013137359609|0.4971032701256608|\n",
      "|    min|           -7.0421|          -13.7731|           -5.2861|           -8.5482|                 0|\n",
      "|    max|            6.8248|           12.9516|           17.9274|            2.4495|                 1|\n",
      "+-------+------------------+------------------+------------------+------------------+------------------+\n",
      "\n"
     ]
    }
   ],
   "source": [
    "df.describe().show()"
   ]
  },
  {
   "cell_type": "code",
   "execution_count": 9,
   "id": "07feb949",
   "metadata": {},
   "outputs": [],
   "source": [
    "from pyspark.ml.feature import VectorAssembler"
   ]
  },
  {
   "cell_type": "code",
   "execution_count": 10,
   "id": "e3bbcab2",
   "metadata": {},
   "outputs": [
    {
     "data": {
      "text/plain": [
       "['Variance', 'Skewness', 'Curtosis', 'Entropy', 'Class']"
      ]
     },
     "execution_count": 10,
     "metadata": {},
     "output_type": "execute_result"
    }
   ],
   "source": [
    "df.columns"
   ]
  },
  {
   "cell_type": "code",
   "execution_count": 30,
   "id": "b79153c6",
   "metadata": {},
   "outputs": [
    {
     "data": {
      "text/plain": [
       "VectorAssembler_a961e3ff1c37"
      ]
     },
     "execution_count": 30,
     "metadata": {},
     "output_type": "execute_result"
    }
   ],
   "source": [
    "assembler = VectorAssembler(inputCols = ['Variance', 'Skewness', 'Curtosis', 'Entropy'] ,\n",
    "                           outputCol = \"features\")\n",
    "\n",
    "assembler"
   ]
  },
  {
   "cell_type": "code",
   "execution_count": 29,
   "id": "588bb9e9",
   "metadata": {},
   "outputs": [
    {
     "name": "stdout",
     "output_type": "stream",
     "text": [
      "+--------+--------+--------+--------+-----+--------------------+\n",
      "|Variance|Skewness|Curtosis| Entropy|Class|            features|\n",
      "+--------+--------+--------+--------+-----+--------------------+\n",
      "|  3.6216|  8.6661| -2.8073|-0.44699|    0|[3.6216,8.6661,-2...|\n",
      "|  4.5459|  8.1674| -2.4586| -1.4621|    0|[4.5459,8.1674,-2...|\n",
      "|   3.866| -2.6383|  1.9242| 0.10645|    0|[3.866,-2.6383,1....|\n",
      "|  3.4566|  9.5228| -4.0112| -3.5944|    0|[3.4566,9.5228,-4...|\n",
      "| 0.32924| -4.4552|  4.5718| -0.9888|    0|[0.32924,-4.4552,...|\n",
      "|  4.3684|  9.6718| -3.9606| -3.1625|    0|[4.3684,9.6718,-3...|\n",
      "|  3.5912|  3.0129| 0.72888| 0.56421|    0|[3.5912,3.0129,0....|\n",
      "|  2.0922|   -6.81|  8.4636|-0.60216|    0|[2.0922,-6.81,8.4...|\n",
      "|  3.2032|  5.7588|-0.75345|-0.61251|    0|[3.2032,5.7588,-0...|\n",
      "|  1.5356|  9.1772| -2.2718|-0.73535|    0|[1.5356,9.1772,-2...|\n",
      "|  1.2247|  8.7779| -2.2135|-0.80647|    0|[1.2247,8.7779,-2...|\n",
      "|  3.9899| -2.7066|  2.3946| 0.86291|    0|[3.9899,-2.7066,2...|\n",
      "|  1.8993|  7.6625| 0.15394| -3.1108|    0|[1.8993,7.6625,0....|\n",
      "| -1.5768|  10.843|  2.5462| -2.9362|    0|[-1.5768,10.843,2...|\n",
      "|   3.404|  8.7261| -2.9915|-0.57242|    0|[3.404,8.7261,-2....|\n",
      "|  4.6765| -3.3895|  3.4896|  1.4771|    0|[4.6765,-3.3895,3...|\n",
      "|  2.6719|  3.0646| 0.37158| 0.58619|    0|[2.6719,3.0646,0....|\n",
      "| 0.80355|  2.8473|  4.3439|  0.6017|    0|[0.80355,2.8473,4...|\n",
      "|  1.4479| -4.8794|  8.3428| -2.1086|    0|[1.4479,-4.8794,8...|\n",
      "|  5.2423| 11.0272|  -4.353| -4.1013|    0|[5.2423,11.0272,-...|\n",
      "+--------+--------+--------+--------+-----+--------------------+\n",
      "only showing top 20 rows\n",
      "\n"
     ]
    }
   ],
   "source": [
    "output = assembler.transform(df)\n",
    "output.show()"
   ]
  },
  {
   "cell_type": "code",
   "execution_count": 15,
   "id": "c96978d3",
   "metadata": {},
   "outputs": [
    {
     "name": "stdout",
     "output_type": "stream",
     "text": [
      "+--------------------+-----+\n",
      "|            features|class|\n",
      "+--------------------+-----+\n",
      "|[3.6216,8.6661,-2...|    0|\n",
      "|[4.5459,8.1674,-2...|    0|\n",
      "|[3.866,-2.6383,1....|    0|\n",
      "|[3.4566,9.5228,-4...|    0|\n",
      "|[0.32924,-4.4552,...|    0|\n",
      "|[4.3684,9.6718,-3...|    0|\n",
      "|[3.5912,3.0129,0....|    0|\n",
      "|[2.0922,-6.81,8.4...|    0|\n",
      "|[3.2032,5.7588,-0...|    0|\n",
      "|[1.5356,9.1772,-2...|    0|\n",
      "|[1.2247,8.7779,-2...|    0|\n",
      "|[3.9899,-2.7066,2...|    0|\n",
      "|[1.8993,7.6625,0....|    0|\n",
      "|[-1.5768,10.843,2...|    0|\n",
      "|[3.404,8.7261,-2....|    0|\n",
      "|[4.6765,-3.3895,3...|    0|\n",
      "|[2.6719,3.0646,0....|    0|\n",
      "|[0.80355,2.8473,4...|    0|\n",
      "|[1.4479,-4.8794,8...|    0|\n",
      "|[5.2423,11.0272,-...|    0|\n",
      "+--------------------+-----+\n",
      "only showing top 20 rows\n",
      "\n"
     ]
    }
   ],
   "source": [
    "output.select(\"features\",\"class\").show()"
   ]
  },
  {
   "cell_type": "code",
   "execution_count": 16,
   "id": "1532a6d4",
   "metadata": {},
   "outputs": [
    {
     "name": "stdout",
     "output_type": "stream",
     "text": [
      "+--------------------+-----+\n",
      "|            features|class|\n",
      "+--------------------+-----+\n",
      "|[3.6216,8.6661,-2...|    0|\n",
      "|[4.5459,8.1674,-2...|    0|\n",
      "|[3.866,-2.6383,1....|    0|\n",
      "|[3.4566,9.5228,-4...|    0|\n",
      "|[0.32924,-4.4552,...|    0|\n",
      "|[4.3684,9.6718,-3...|    0|\n",
      "|[3.5912,3.0129,0....|    0|\n",
      "|[2.0922,-6.81,8.4...|    0|\n",
      "|[3.2032,5.7588,-0...|    0|\n",
      "|[1.5356,9.1772,-2...|    0|\n",
      "|[1.2247,8.7779,-2...|    0|\n",
      "|[3.9899,-2.7066,2...|    0|\n",
      "|[1.8993,7.6625,0....|    0|\n",
      "|[-1.5768,10.843,2...|    0|\n",
      "|[3.404,8.7261,-2....|    0|\n",
      "|[4.6765,-3.3895,3...|    0|\n",
      "|[2.6719,3.0646,0....|    0|\n",
      "|[0.80355,2.8473,4...|    0|\n",
      "|[1.4479,-4.8794,8...|    0|\n",
      "|[5.2423,11.0272,-...|    0|\n",
      "+--------------------+-----+\n",
      "only showing top 20 rows\n",
      "\n"
     ]
    }
   ],
   "source": [
    "model_df = output.select(\"features\",\"class\")\n",
    "model_df.show()"
   ]
  },
  {
   "cell_type": "code",
   "execution_count": 17,
   "id": "5eef407e",
   "metadata": {},
   "outputs": [],
   "source": [
    "training_df ,test_df = model_df.randomSplit([0.7,0.3])"
   ]
  },
  {
   "cell_type": "code",
   "execution_count": 18,
   "id": "0d5e2961",
   "metadata": {},
   "outputs": [
    {
     "data": {
      "text/plain": [
       "957"
      ]
     },
     "execution_count": 18,
     "metadata": {},
     "output_type": "execute_result"
    }
   ],
   "source": [
    "training_df.count()"
   ]
  },
  {
   "cell_type": "code",
   "execution_count": 19,
   "id": "92805a19",
   "metadata": {},
   "outputs": [
    {
     "data": {
      "text/plain": [
       "415"
      ]
     },
     "execution_count": 19,
     "metadata": {},
     "output_type": "execute_result"
    }
   ],
   "source": [
    "test_df.count()"
   ]
  },
  {
   "cell_type": "code",
   "execution_count": 20,
   "id": "2bdb325f",
   "metadata": {},
   "outputs": [],
   "source": [
    "from pyspark.ml.classification import DecisionTreeClassifier\n",
    "from pyspark.ml.evaluation import MulticlassClassificationEvaluator"
   ]
  },
  {
   "cell_type": "code",
   "execution_count": 21,
   "id": "39b85ac8",
   "metadata": {},
   "outputs": [],
   "source": [
    "df_classifier = DecisionTreeClassifier(labelCol = \"class\").fit(training_df)"
   ]
  },
  {
   "cell_type": "code",
   "execution_count": 23,
   "id": "7223593a",
   "metadata": {},
   "outputs": [
    {
     "name": "stdout",
     "output_type": "stream",
     "text": [
      "+--------------------+-----+-------------+--------------------+----------+\n",
      "|            features|class|rawPrediction|         probability|prediction|\n",
      "+--------------------+-----+-------------+--------------------+----------+\n",
      "|[-6.651,6.7934,0....|    1|   [0.0,28.0]|           [0.0,1.0]|       1.0|\n",
      "|[-6.5084,8.7696,0...|    1|   [0.0,28.0]|           [0.0,1.0]|       1.0|\n",
      "|[-6.3364,9.2848,0...|    1|   [0.0,28.0]|           [0.0,1.0]|       1.0|\n",
      "|[-6.2815,6.6651,0...|    1|   [0.0,28.0]|           [0.0,1.0]|       1.0|\n",
      "|[-6.1536,7.9295,0...|    1|   [0.0,28.0]|           [0.0,1.0]|       1.0|\n",
      "|[-6.0598,9.2952,-...|    1|   [0.0,28.0]|           [0.0,1.0]|       1.0|\n",
      "|[-5.525,6.3258,0....|    1|   [0.0,28.0]|           [0.0,1.0]|       1.0|\n",
      "|[-5.4808,8.1819,0...|    1|   [0.0,28.0]|           [0.0,1.0]|       1.0|\n",
      "|[-5.4414,7.2363,0...|    1|   [0.0,28.0]|           [0.0,1.0]|       1.0|\n",
      "|[-5.1661,8.0433,0...|    1|   [0.0,28.0]|           [0.0,1.0]|       1.0|\n",
      "|[-5.1216,-5.3118,...|    1|   [2.0,81.0]|[0.02409638554216...|       1.0|\n",
      "|[-5.119,6.6486,-0...|    1|   [0.0,28.0]|           [0.0,1.0]|       1.0|\n",
      "|[-5.0676,-5.1877,...|    1|   [2.0,81.0]|[0.02409638554216...|       1.0|\n",
      "|[-5.0301,7.5032,-...|    1|   [0.0,28.0]|           [0.0,1.0]|       1.0|\n",
      "|[-4.8392,6.6755,-...|    1|   [0.0,28.0]|           [0.0,1.0]|       1.0|\n",
      "|[-4.7462,3.1205,1...|    1|  [2.0,233.0]|[0.00851063829787...|       1.0|\n",
      "|[-4.4996,3.4288,0...|    1|  [2.0,233.0]|[0.00851063829787...|       1.0|\n",
      "|[-4.4861,-13.2889...|    1|   [2.0,81.0]|[0.02409638554216...|       1.0|\n",
      "|[-4.3876,-7.7267,...|    1|   [2.0,81.0]|[0.02409638554216...|       1.0|\n",
      "|[-4.2887,-7.8633,...|    1|   [2.0,81.0]|[0.02409638554216...|       1.0|\n",
      "+--------------------+-----+-------------+--------------------+----------+\n",
      "only showing top 20 rows\n",
      "\n"
     ]
    }
   ],
   "source": [
    "df_predictions = df_classifier.transform(test_df)\n",
    "df_predictions.show()"
   ]
  },
  {
   "cell_type": "code",
   "execution_count": 24,
   "id": "7acdf05d",
   "metadata": {},
   "outputs": [
    {
     "data": {
      "text/plain": [
       "0.9927710843373494"
      ]
     },
     "execution_count": 24,
     "metadata": {},
     "output_type": "execute_result"
    }
   ],
   "source": [
    "df_accuracy = MulticlassClassificationEvaluator(labelCol =\"class\" ,\n",
    "                                               metricName =\"accuracy\").evaluate(df_predictions)\n",
    "\n",
    "df_accuracy"
   ]
  },
  {
   "cell_type": "code",
   "execution_count": 25,
   "id": "51bf72da",
   "metadata": {},
   "outputs": [
    {
     "data": {
      "text/plain": [
       "0.9927822789415501"
      ]
     },
     "execution_count": 25,
     "metadata": {},
     "output_type": "execute_result"
    }
   ],
   "source": [
    "df_precision = MulticlassClassificationEvaluator(labelCol =\"class\" ,\n",
    "                                               metricName =\"weightedPrecision\").evaluate(df_predictions)\n",
    "\n",
    "\n",
    "df_precision"
   ]
  },
  {
   "cell_type": "code",
   "execution_count": 26,
   "id": "103dcef5",
   "metadata": {},
   "outputs": [
    {
     "data": {
      "text/plain": [
       "['Variance', 'Skewness', 'Curtosis', 'Entropy', 'Class']"
      ]
     },
     "execution_count": 26,
     "metadata": {},
     "output_type": "execute_result"
    }
   ],
   "source": [
    "df.columns"
   ]
  },
  {
   "cell_type": "code",
   "execution_count": 27,
   "id": "c12fabbd",
   "metadata": {},
   "outputs": [
    {
     "data": {
      "text/plain": [
       "SparseVector(4, {0: 0.641, 1: 0.2347, 2: 0.1131, 3: 0.0112})"
      ]
     },
     "execution_count": 27,
     "metadata": {},
     "output_type": "execute_result"
    }
   ],
   "source": [
    "df_classifier.featureImportances"
   ]
  },
  {
   "cell_type": "code",
   "execution_count": 28,
   "id": "1e55138b",
   "metadata": {},
   "outputs": [
    {
     "data": {
      "text/plain": [
       "0.9927709164270623"
      ]
     },
     "execution_count": 28,
     "metadata": {},
     "output_type": "execute_result"
    }
   ],
   "source": [
    "df_auc = MulticlassClassificationEvaluator(labelCol =\"class\").evaluate(df_predictions)\n",
    "df_auc"
   ]
  },
  {
   "cell_type": "code",
   "execution_count": null,
   "id": "bd6722b0",
   "metadata": {},
   "outputs": [],
   "source": []
  }
 ],
 "metadata": {
  "kernelspec": {
   "display_name": "Python 3 (ipykernel)",
   "language": "python",
   "name": "python3"
  },
  "language_info": {
   "codemirror_mode": {
    "name": "ipython",
    "version": 3
   },
   "file_extension": ".py",
   "mimetype": "text/x-python",
   "name": "python",
   "nbconvert_exporter": "python",
   "pygments_lexer": "ipython3",
   "version": "3.9.12"
  }
 },
 "nbformat": 4,
 "nbformat_minor": 5
}
